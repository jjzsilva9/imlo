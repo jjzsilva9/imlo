{
  "nbformat": 4,
  "nbformat_minor": 0,
  "metadata": {
    "colab": {
      "provenance": [],
      "authorship_tag": "ABX9TyOl0UDLFN445W4uFYTBrsyc",
      "include_colab_link": true
    },
    "kernelspec": {
      "name": "python3",
      "display_name": "Python 3"
    },
    "language_info": {
      "name": "python"
    }
  },
  "cells": [
    {
      "cell_type": "markdown",
      "metadata": {
        "id": "view-in-github",
        "colab_type": "text"
      },
      "source": [
        "<a href=\"https://colab.research.google.com/github/jjzsilva9/imlo/blob/main/practical2.ipynb\" target=\"_parent\"><img src=\"https://colab.research.google.com/assets/colab-badge.svg\" alt=\"Open In Colab\"/></a>"
      ]
    },
    {
      "cell_type": "markdown",
      "source": [
        "# IMLO Practical #2"
      ],
      "metadata": {
        "id": "eyCgVIGtyh7Y"
      }
    },
    {
      "cell_type": "code",
      "execution_count": 2,
      "metadata": {
        "id": "b8BQI0_IygS3"
      },
      "outputs": [],
      "source": [
        "import numpy as np"
      ]
    },
    {
      "cell_type": "markdown",
      "source": [
        "**Question 1:**"
      ],
      "metadata": {
        "id": "1qOka--Ey7Zi"
      }
    },
    {
      "cell_type": "code",
      "source": [
        "x = np.array([2, 3, 5])\n",
        "v = np.array([3, 0, 4])\n",
        "\n",
        "np.transpose(x) @ v"
      ],
      "metadata": {
        "colab": {
          "base_uri": "https://localhost:8080/"
        },
        "id": "Bb67XiEIy0iY",
        "outputId": "494764bf-9210-4f4f-ad71-1298fd9bb54d"
      },
      "execution_count": 4,
      "outputs": [
        {
          "output_type": "execute_result",
          "data": {
            "text/plain": [
              "26"
            ]
          },
          "metadata": {},
          "execution_count": 4
        }
      ]
    },
    {
      "cell_type": "code",
      "source": [
        "x @ np.transpose(v)"
      ],
      "metadata": {
        "colab": {
          "base_uri": "https://localhost:8080/"
        },
        "id": "D3lsVAkwzLFU",
        "outputId": "a1ae28c1-2931-4a76-e423-3b6cbca05f0b"
      },
      "execution_count": 5,
      "outputs": [
        {
          "output_type": "execute_result",
          "data": {
            "text/plain": [
              "26"
            ]
          },
          "metadata": {},
          "execution_count": 5
        }
      ]
    },
    {
      "cell_type": "code",
      "source": [
        "A = np.array([[4, 1, 0, 2], [2, 0, 1, 3]])\n",
        "b = np.array([3, 0, 5, 1])\n",
        "\n",
        "A @ b"
      ],
      "metadata": {
        "colab": {
          "base_uri": "https://localhost:8080/"
        },
        "id": "L99pKJAy0NRA",
        "outputId": "0bd9197f-c9ef-4d62-b40d-b01a84a5a500"
      },
      "execution_count": 6,
      "outputs": [
        {
          "output_type": "execute_result",
          "data": {
            "text/plain": [
              "array([14, 14])"
            ]
          },
          "metadata": {},
          "execution_count": 6
        }
      ]
    },
    {
      "cell_type": "code",
      "source": [
        "B = np.array([[3, 2, 0], [0, 4, 2], [5, 0, 1], [1, 3, 4]])\n",
        "\n",
        "A @ B"
      ],
      "metadata": {
        "colab": {
          "base_uri": "https://localhost:8080/"
        },
        "id": "hxlyDQVh0aUv",
        "outputId": "40dcd808-8322-497a-bbc0-401b18aee5da"
      },
      "execution_count": 7,
      "outputs": [
        {
          "output_type": "execute_result",
          "data": {
            "text/plain": [
              "array([[14, 18, 10],\n",
              "       [14, 13, 13]])"
            ]
          },
          "metadata": {},
          "execution_count": 7
        }
      ]
    },
    {
      "cell_type": "code",
      "source": [
        "w = np.array([2, 4, 3, 1])\n",
        "np.linalg.norm(w)"
      ],
      "metadata": {
        "colab": {
          "base_uri": "https://localhost:8080/"
        },
        "id": "2jnXzPbv0qsl",
        "outputId": "622e2271-f558-4dec-bcfb-7ec92336543d"
      },
      "execution_count": 8,
      "outputs": [
        {
          "output_type": "execute_result",
          "data": {
            "text/plain": [
              "5.477225575051661"
            ]
          },
          "metadata": {},
          "execution_count": 8
        }
      ]
    },
    {
      "cell_type": "code",
      "source": [
        "e = np.array([5, 0, 0])\n",
        "e / np.linalg.norm(e)"
      ],
      "metadata": {
        "colab": {
          "base_uri": "https://localhost:8080/"
        },
        "id": "N3_HjjM50__o",
        "outputId": "8a2457eb-6bba-4773-d769-2943dea27060"
      },
      "execution_count": 9,
      "outputs": [
        {
          "output_type": "execute_result",
          "data": {
            "text/plain": [
              "array([1., 0., 0.])"
            ]
          },
          "metadata": {},
          "execution_count": 9
        }
      ]
    },
    {
      "cell_type": "markdown",
      "source": [
        "**Question 2**"
      ],
      "metadata": {
        "id": "W5RGvBNP1Vkc"
      }
    },
    {
      "cell_type": "code",
      "source": [
        "B[1:3, 1]"
      ],
      "metadata": {
        "colab": {
          "base_uri": "https://localhost:8080/"
        },
        "id": "AbXm4nBa1P0Q",
        "outputId": "f5fee16c-2fc6-4f93-d29e-94836f18969f"
      },
      "execution_count": 15,
      "outputs": [
        {
          "output_type": "execute_result",
          "data": {
            "text/plain": [
              "array([4, 0])"
            ]
          },
          "metadata": {},
          "execution_count": 15
        }
      ]
    },
    {
      "cell_type": "code",
      "source": [
        "def dot(v1, v2):\n",
        ""
      ],
      "metadata": {
        "id": "2cOUcyab1jm9"
      },
      "execution_count": null,
      "outputs": []
    }
  ]
}