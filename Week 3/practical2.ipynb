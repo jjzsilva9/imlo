{
  "nbformat": 4,
  "nbformat_minor": 0,
  "metadata": {
    "colab": {
      "provenance": [],
      "authorship_tag": "ABX9TyPcUUqRoMNJ0WlRmuITazZX",
      "include_colab_link": true
    },
    "kernelspec": {
      "name": "python3",
      "display_name": "Python 3"
    },
    "language_info": {
      "name": "python"
    }
  },
  "cells": [
    {
      "cell_type": "markdown",
      "metadata": {
        "id": "view-in-github",
        "colab_type": "text"
      },
      "source": [
        "<a href=\"https://colab.research.google.com/github/jjzsilva9/imlo/blob/main/practical2.ipynb\" target=\"_parent\"><img src=\"https://colab.research.google.com/assets/colab-badge.svg\" alt=\"Open In Colab\"/></a>"
      ]
    },
    {
      "cell_type": "markdown",
      "source": [
        "# IMLO Practical #2"
      ],
      "metadata": {
        "id": "eyCgVIGtyh7Y"
      }
    },
    {
      "cell_type": "code",
      "execution_count": 1,
      "metadata": {
        "id": "b8BQI0_IygS3"
      },
      "outputs": [],
      "source": [
        "import numpy as np"
      ]
    },
    {
      "cell_type": "markdown",
      "source": [
        "**Question 1:**"
      ],
      "metadata": {
        "id": "1qOka--Ey7Zi"
      }
    },
    {
      "cell_type": "code",
      "source": [
        "x = np.array([2, 3, 5])\n",
        "v = np.array([3, 0, 4])\n",
        "\n",
        "np.transpose(x) @ v"
      ],
      "metadata": {
        "colab": {
          "base_uri": "https://localhost:8080/"
        },
        "id": "Bb67XiEIy0iY",
        "outputId": "57732f63-8c50-438e-d46e-9992b8f60694"
      },
      "execution_count": 2,
      "outputs": [
        {
          "output_type": "execute_result",
          "data": {
            "text/plain": [
              "26"
            ]
          },
          "metadata": {},
          "execution_count": 2
        }
      ]
    },
    {
      "cell_type": "code",
      "source": [
        "x @ np.transpose(v)"
      ],
      "metadata": {
        "colab": {
          "base_uri": "https://localhost:8080/"
        },
        "id": "D3lsVAkwzLFU",
        "outputId": "e3048c79-d883-4550-a681-19049ed25108"
      },
      "execution_count": 3,
      "outputs": [
        {
          "output_type": "execute_result",
          "data": {
            "text/plain": [
              "26"
            ]
          },
          "metadata": {},
          "execution_count": 3
        }
      ]
    },
    {
      "cell_type": "code",
      "source": [
        "A = np.array([[4, 1, 0, 2], [2, 0, 1, 3]])\n",
        "b = np.array([3, 0, 5, 1])\n",
        "\n",
        "A @ b"
      ],
      "metadata": {
        "colab": {
          "base_uri": "https://localhost:8080/"
        },
        "id": "L99pKJAy0NRA",
        "outputId": "f2852974-8574-4c21-ffae-4c3e92fe36e2"
      },
      "execution_count": 4,
      "outputs": [
        {
          "output_type": "execute_result",
          "data": {
            "text/plain": [
              "array([14, 14])"
            ]
          },
          "metadata": {},
          "execution_count": 4
        }
      ]
    },
    {
      "cell_type": "code",
      "source": [
        "B = np.array([[3, 2, 0], [0, 4, 2], [5, 0, 1], [1, 3, 4]])\n",
        "\n",
        "A @ B"
      ],
      "metadata": {
        "colab": {
          "base_uri": "https://localhost:8080/"
        },
        "id": "hxlyDQVh0aUv",
        "outputId": "55486be5-86f1-45dc-e8e2-d46c09d353c0"
      },
      "execution_count": 5,
      "outputs": [
        {
          "output_type": "execute_result",
          "data": {
            "text/plain": [
              "array([[14, 18, 10],\n",
              "       [14, 13, 13]])"
            ]
          },
          "metadata": {},
          "execution_count": 5
        }
      ]
    },
    {
      "cell_type": "code",
      "source": [
        "w = np.array([2, 4, 3, 1])\n",
        "np.linalg.norm(w)"
      ],
      "metadata": {
        "colab": {
          "base_uri": "https://localhost:8080/"
        },
        "id": "2jnXzPbv0qsl",
        "outputId": "0c3e8b26-cc6d-41a9-b1e8-2c664116f60c"
      },
      "execution_count": 6,
      "outputs": [
        {
          "output_type": "execute_result",
          "data": {
            "text/plain": [
              "5.477225575051661"
            ]
          },
          "metadata": {},
          "execution_count": 6
        }
      ]
    },
    {
      "cell_type": "code",
      "source": [
        "e = np.array([5, 0, 0])\n",
        "e / np.linalg.norm(e)"
      ],
      "metadata": {
        "colab": {
          "base_uri": "https://localhost:8080/"
        },
        "id": "N3_HjjM50__o",
        "outputId": "c8e65c5b-dddb-4d3c-b40e-78f78da74f9f"
      },
      "execution_count": 7,
      "outputs": [
        {
          "output_type": "execute_result",
          "data": {
            "text/plain": [
              "array([1., 0., 0.])"
            ]
          },
          "metadata": {},
          "execution_count": 7
        }
      ]
    },
    {
      "cell_type": "markdown",
      "source": [
        "**Question 2**"
      ],
      "metadata": {
        "id": "W5RGvBNP1Vkc"
      }
    },
    {
      "cell_type": "code",
      "source": [
        "B[1:3, 1]\n",
        "np.dot(A, B)"
      ],
      "metadata": {
        "colab": {
          "base_uri": "https://localhost:8080/"
        },
        "id": "AbXm4nBa1P0Q",
        "outputId": "f282fd57-d4af-4c55-efe0-682bcfc087ae"
      },
      "execution_count": 10,
      "outputs": [
        {
          "output_type": "execute_result",
          "data": {
            "text/plain": [
              "array([[14, 18, 10],\n",
              "       [14, 13, 13]])"
            ]
          },
          "metadata": {},
          "execution_count": 10
        }
      ]
    },
    {
      "cell_type": "code",
      "source": [
        "def dot(v1, v2):\n",
        "  if len(v1) != len(v2):\n",
        "    return None\n",
        "  ans = 0\n",
        "  for k in range(len(v1)):\n",
        "    ans += v1[k] * v2[k][0]\n",
        "  return ans\n",
        "\n",
        "dot([1, 3, 2], [[2], [4], [1]])"
      ],
      "metadata": {
        "id": "2cOUcyab1jm9",
        "outputId": "0f3049af-e3b1-4f1e-ecfd-8a386f69a91c",
        "colab": {
          "base_uri": "https://localhost:8080/"
        }
      },
      "execution_count": 14,
      "outputs": [
        {
          "output_type": "execute_result",
          "data": {
            "text/plain": [
              "16"
            ]
          },
          "metadata": {},
          "execution_count": 14
        }
      ]
    },
    {
      "cell_type": "code",
      "source": [
        "data = np.array([[1, 17, 9],\n",
        "                [2, 21, 10],\n",
        "                [3, 12, 17]])\n",
        "\n",
        "np.dot(data, [0, 1, 1])"
      ],
      "metadata": {
        "id": "D3ToAnlWsMX8",
        "outputId": "186ca994-7c88-45d3-dd16-94d8daa36fd3",
        "colab": {
          "base_uri": "https://localhost:8080/"
        }
      },
      "execution_count": 22,
      "outputs": [
        {
          "output_type": "execute_result",
          "data": {
            "text/plain": [
              "array([26, 31, 29])"
            ]
          },
          "metadata": {},
          "execution_count": 22
        }
      ]
    },
    {
      "cell_type": "code",
      "source": [
        "new_data = np.array([[17, 9, 1],\n",
        "                [21, 10, 1],\n",
        "                [12, 17, 1]])\n",
        "new_data @ np.array([4, 5, -100])"
      ],
      "metadata": {
        "id": "UlClY8f3tMvz",
        "outputId": "a65a58e2-2fac-4086-aec1-1f940e2781c4",
        "colab": {
          "base_uri": "https://localhost:8080/"
        }
      },
      "execution_count": 23,
      "outputs": [
        {
          "output_type": "execute_result",
          "data": {
            "text/plain": [
              "array([13, 34, 33])"
            ]
          },
          "metadata": {},
          "execution_count": 23
        }
      ]
    },
    {
      "cell_type": "code",
      "source": [],
      "metadata": {
        "id": "J0Sz1K_jxKU7"
      },
      "execution_count": null,
      "outputs": []
    }
  ]
}